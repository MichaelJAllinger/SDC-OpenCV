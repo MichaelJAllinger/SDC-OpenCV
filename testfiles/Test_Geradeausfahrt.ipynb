{
 "cells": [
  {
   "cell_type": "code",
   "execution_count": null,
   "metadata": {
    "collapsed": false
   },
   "outputs": [],
   "source": [
    "import RPi.GPIO as GPIO\n",
    "import time\n",
    "\n",
    "GPIO.setmode(GPIO.BCM)\n",
    "\n",
    "PIN_ENA = 18\n",
    "PIN_IN1 = 23\n",
    "PIN_IN2 = 24\n",
    "\n",
    "PIN_ENB = 16\n",
    "PIN_IN3 = 25\n",
    "PIN_IN4 = 12\n",
    "\n",
    "GPIO_TRIGGER = 22\n",
    "GPIO_ECHO = 5\n",
    "\n",
    "GPIO.setup(PIN_ENA, GPIO.OUT)\n",
    "GPIO.setup(PIN_IN1, GPIO.OUT)\n",
    "GPIO.setup(PIN_IN2, GPIO.OUT)\n",
    "\n",
    "GPIO.setup(PIN_ENB, GPIO.OUT)\n",
    "GPIO.setup(PIN_IN3, GPIO.OUT)\n",
    "GPIO.setup(PIN_IN4, GPIO.OUT)\n",
    "\n",
    "GPIO.setup(GPIO_TRIGGER, GPIO.OUT)\n",
    "GPIO.setup(GPIO_ECHO, GPIO.IN)\n",
    "\n",
    "MotorL = GPIO.PWM(PIN_ENA, 50.0)\n",
    "MotorR = GPIO.PWM(PIN_ENB, 50.0)\n",
    "\n",
    "GPIO.output(PIN_IN1, 1)\n",
    "GPIO.output(PIN_IN2, 0)\n",
    "GPIO.output(PIN_IN3, 1)\n",
    "GPIO.output(PIN_IN4, 0)\n",
    "\n",
    "# ------------------------\n",
    "\"\"\"\n",
    "def distanzl():\n",
    "    GPIO.output(GPIO_TRIGGER, True)    #10us-Impuls erzeugen\n",
    "    time.sleep(0.000001)\n",
    "    GPIO.output(GPIO_TRIGGER, False)\n",
    "    \n",
    "    while GPIO.input(GPIO_ECHO) == 0:  #Warten auf LOW\n",
    "        StartZeit = time.time()\n",
    "    \n",
    "    while GPIO.input(GPIO_ECHO) == 1:  #Warten auf HIGH\n",
    "        StopZeit = time.time()\n",
    "    \n",
    "    Techo = StopZeit-StartZeit\n",
    "    distanz = (Techo * 33e3) / 2       #Ergebnis in cm\n",
    "    return distanz\n",
    "\n",
    "\"\"\"\n",
    "\n",
    "\n",
    "MotorL.start(50)\n",
    "MotorR.start(15)\n",
    "\n",
    "time.sleep(3)\n",
    "\n",
    "MotorR.stop()\n",
    "MotorL.stop()\n",
    "GPIO.cleanup()\n",
    "\n"
   ]
  },
  {
   "cell_type": "code",
   "execution_count": null,
   "metadata": {
    "collapsed": true
   },
   "outputs": [],
   "source": []
  },
  {
   "cell_type": "code",
   "execution_count": null,
   "metadata": {
    "collapsed": true
   },
   "outputs": [],
   "source": []
  }
 ],
 "metadata": {
  "kernelspec": {
   "display_name": "Python 3",
   "language": "python",
   "name": "python3"
  },
  "language_info": {
   "codemirror_mode": {
    "name": "ipython",
    "version": 3
   },
   "file_extension": ".py",
   "mimetype": "text/x-python",
   "name": "python",
   "nbconvert_exporter": "python",
   "pygments_lexer": "ipython3",
   "version": "3.5.3"
  }
 },
 "nbformat": 4,
 "nbformat_minor": 2
}
