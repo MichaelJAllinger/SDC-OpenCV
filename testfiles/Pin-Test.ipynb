{
 "cells": [
  {
   "cell_type": "code",
   "execution_count": 1,
   "metadata": {
    "collapsed": false
   },
   "outputs": [],
   "source": [
    "import RPi.GPIO as GPIO # GPIO Bibliothek importieren \n",
    "import time # Modul time importieren \n",
    "\n",
    "oute=18\n",
    "out1=23\n",
    "out2=24\n",
    "outeb=16\n",
    "out3=25\n",
    "out4=12\n",
    "\n",
    "GPIO.setmode(GPIO.BCM) # Verwende Board−Pinnummern \n",
    "GPIO.setup(oute, GPIO.OUT)# Setze Pin 26 (GPIO7) als Ausgang \n",
    "GPIO.setup(out1, GPIO.OUT)\n",
    "GPIO.setup(out2, GPIO.OUT)\n",
    "GPIO.setup(outeb, GPIO.OUT)# Setze Pin 26 (GPIO7) als Ausgang \n",
    "GPIO.setup(out3, GPIO.OUT)\n",
    "GPIO.setup(out4, GPIO.OUT)\n",
    "GPIO.output(oute, True) # Lege 3.3V auf Pin 26\n",
    "GPIO.output(out1, True)\n",
    "GPIO.output(out2, False)\n",
    "GPIO.output(outeb, True) # Lege 3.3V auf Pin 26\n",
    "GPIO.output(out3, False)\n",
    "GPIO.output(out4, True)\n",
    "time.sleep (10) # Warte 500ms \n",
    "GPIO.output(oute, False) # Lege 0V auf Pin 26 \n",
    "GPIO.output(out1, False)\n",
    "GPIO.output(out2, False)\n",
    "GPIO.output(outeb, False) # Lege 0V auf Pin 26 \n",
    "GPIO.output(out3, False)\n",
    "GPIO.output(out4, False)\n",
    "GPIO.cleanup() # Aufräumen"
   ]
  },
  {
   "cell_type": "code",
   "execution_count": null,
   "metadata": {
    "collapsed": true
   },
   "outputs": [],
   "source": []
  },
  {
   "cell_type": "code",
   "execution_count": null,
   "metadata": {
    "collapsed": true
   },
   "outputs": [],
   "source": []
  }
 ],
 "metadata": {
  "kernelspec": {
   "display_name": "Python 3",
   "language": "python",
   "name": "python3"
  },
  "language_info": {
   "codemirror_mode": {
    "name": "ipython",
    "version": 3
   },
   "file_extension": ".py",
   "mimetype": "text/x-python",
   "name": "python",
   "nbconvert_exporter": "python",
   "pygments_lexer": "ipython3",
   "version": "3.5.3"
  }
 },
 "nbformat": 4,
 "nbformat_minor": 2
}
