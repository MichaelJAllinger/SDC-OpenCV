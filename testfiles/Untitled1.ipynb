{
 "cells": [
  {
   "cell_type": "code",
   "execution_count": null,
   "metadata": {
    "collapsed": false
   },
   "outputs": [],
   "source": [
    "import RPi.GPIO as GPIO\n",
    "import time\n",
    "\n",
    "GPIO.setmode(GPIO.BCM)\n",
    "\n",
    "PIN_ENA = 18\n",
    "PIN_IN1 = 23\n",
    "PIN_IN2 = 24\n",
    "\n",
    "PIN_ENB = 16\n",
    "PIN_IN3 = 25\n",
    "PIN_IN4 = 12\n",
    "\n",
    "GPIO_TRIGGER = 6\n",
    "GPIO_ECHO = 13\n",
    "\n",
    "\n",
    "GPIO.setup(PIN_ENA, GPIO.OUT)\n",
    "GPIO.setup(PIN_IN1, GPIO.OUT)\n",
    "GPIO.setup(PIN_IN2, GPIO.OUT)\n",
    "\n",
    "GPIO.setup(PIN_ENB, GPIO.OUT)\n",
    "GPIO.setup(PIN_IN3, GPIO.OUT)\n",
    "GPIO.setup(PIN_IN4, GPIO.OUT)\n",
    "\n",
    "GPIO.setup(GPIO_TRIGGER, GPIO.OUT)\n",
    "GPIO.setup(GPIO_ECHO, GPIO.IN)\n",
    "\n",
    "MotorR = GPIO.PWM(PIN_ENA, 50.0)\n",
    "MotorL = GPIO.PWM(PIN_ENB, 50.0)\n",
    "\n",
    "GPIO.output(PIN_IN1, 1)\n",
    "GPIO.output(PIN_IN2, 0)\n",
    "GPIO.output(PIN_IN3, 0)\n",
    "GPIO.output(PIN_IN4, 1)\n",
    "\n",
    "MotorR.start(100)\n",
    "MotorL.start(100)\n",
    "\n",
    "\n",
    "def distanzl():\n",
    "    GPIO.output(GPIO_TRIGGER, True)    #10us-Impuls erzeugen\n",
    "    time.sleep(0.000001)\n",
    "    GPIO.output(GPIO_TRIGGER, False)\n",
    "    \n",
    "    while GPIO.input(GPIO_ECHO) == 0:  #Warten auf LOW\n",
    "        StartZeit = time.time()\n",
    "    \n",
    "    while GPIO.input(GPIO_ECHO) == 1:  #Warten auf HIGH\n",
    "        StopZeit = time.time()\n",
    "    \n",
    "    Techo = StopZeit-StartZeit\n",
    "    distanzl = (Techo * 33e3) / 2       #Ergebnis in cm\n",
    "    return distanzl\n",
    "\n",
    "\n",
    "try:\n",
    "    while True:\n",
    "        AbstandL = distanzl()\n",
    "        print(\"Gemessene Entfernung links = %.1f cm\" %AbstandL)\n",
    "        if AbstandL < 37:\n",
    "            MotorL.start(100)\n",
    "            MotorR.start(60)\n",
    "        elif AbstandL > 50:\n",
    "            MotorL.start(60)\n",
    "            MotorR.start(100)\n",
    "        else:\n",
    "            MotorL.start(100)\n",
    "            MotorR.start(100)\n",
    "        time.sleep(0.1)\n",
    "except KeyboardInterrupt:\n",
    "    print(\"Fahrzeug angehalten.\")\n",
    "    GPIO.cleanup()\n",
    "    \n"
   ]
  },
  {
   "cell_type": "code",
   "execution_count": null,
   "metadata": {
    "collapsed": true
   },
   "outputs": [],
   "source": []
  }
 ],
 "metadata": {
  "kernelspec": {
   "display_name": "Python 3",
   "language": "python",
   "name": "python3"
  },
  "language_info": {
   "codemirror_mode": {
    "name": "ipython",
    "version": 3
   },
   "file_extension": ".py",
   "mimetype": "text/x-python",
   "name": "python",
   "nbconvert_exporter": "python",
   "pygments_lexer": "ipython3",
   "version": "3.5.3"
  }
 },
 "nbformat": 4,
 "nbformat_minor": 2
}
