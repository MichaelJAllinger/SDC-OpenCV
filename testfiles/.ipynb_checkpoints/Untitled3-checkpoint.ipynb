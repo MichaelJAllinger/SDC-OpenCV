{
 "cells": [
  {
   "cell_type": "code",
   "execution_count": 1,
   "metadata": {
    "collapsed": false
   },
   "outputs": [
    {
     "ename": "SyntaxError",
     "evalue": "invalid syntax (<ipython-input-1-95d8f791b86f>, line 33)",
     "output_type": "error",
     "traceback": [
      "\u001b[0;36m  File \u001b[0;32m\"<ipython-input-1-95d8f791b86f>\"\u001b[0;36m, line \u001b[0;32m33\u001b[0m\n\u001b[0;31m    contours[1] = testarray[]                   # findContours gibt ein Tuple aus, diese Zeile schneidet alle Metadaten aus dem Tupel heraus, sodass nur die reinen Koordinaten der Flächen übrig bleiben\u001b[0m\n\u001b[0m                            ^\u001b[0m\n\u001b[0;31mSyntaxError\u001b[0m\u001b[0;31m:\u001b[0m invalid syntax\n"
     ]
    }
   ],
   "source": [
    "import numpy as np\n",
    "import cv2\n",
    "%matplotlib notebook\n",
    "import matplotlib.pyplot as plt\n",
    "\n",
    "#import mylib\t\t#sucht mylib.py und führt es aus\n",
    "#die Suche wird durchgeführt in:\n",
    "#import sys\n",
    "#sys.path\n",
    "\n",
    "\n",
    "\n",
    "video_capture = cv2.VideoCapture(0)         # -1: zufällige Kamera auswählen \n",
    "#video_capture.set(3, 640)                    # Breite des Bildes festlegen\n",
    "#video_capture.set(4, 480)                    # Höhe des Bildes festlegen\n",
    "\n",
    "\n",
    "ret, frame = video_capture.read()        # Video capturen\n",
    "\n",
    "#img_rgb = frame[:, :, ::-1]             # richtige Farbdarstellung\n",
    "\n",
    "crop_img = frame[240:480,0:640]\n",
    "\n",
    "hsv_img = cv2.cvtColor(crop_img, cv2.COLOR_BGR2HSV)\n",
    "\n",
    "lower_pink = np.array([0,50,50])                      \n",
    "upper_pink = np.array([10,255,255])\n",
    "    \n",
    "mask = cv2.inRange(hsv_img, lower_pink, upper_pink)\n",
    "\n",
    "contours = cv2.findContours(mask, 1, cv2.CHAIN_APPROX_NONE)\n",
    "\n",
    "testarray[] = contours[1]                  # findContours gibt ein Tuple aus, diese Zeile schneidet alle Metadaten aus dem Tupel heraus, sodass nur die reinen Koordinaten der Flächen übrig bleiben  \n",
    "\n",
    "print(testarray)\n",
    "\n",
    "#test = np.array([[[0,0]], [[10,0]], [[10,10]], [[0,10]]])\n",
    "\n",
    "#key = cv2.contourArea(contours)\n",
    "\n",
    "#print(key)\n",
    "\n",
    "#if len(contours) > 0:\n",
    "        #c = max(contours, key=cv2.contourArea)              # die größte Kontur finden (if-Befehl)\n",
    "        #M = cv2.moments(c)\n",
    "        \n",
    "        #cx = int(M['m10']/M['m00'])                         # Mittelpunktskoordinaten der größten Fläche finden\n",
    "        #cy = int(M['m01']/M['m00'])\n",
    "        \n",
    "        #if cx >= 360:                                       # Auto positionieren (Linkskurve, Rechtskurve, Geradeausfahrt)\n",
    "            #print(\"Linkskurve gebraucht!\")\n",
    "        \n",
    "        #if cx < 360 and cx > 120:\n",
    "            #print(\"Geradeausfahren!\")\n",
    "        \n",
    "        #if cx <= 120:\n",
    "            #print(\"Rechtskurve gebraucht!\")\n",
    "    \n",
    "#else:\n",
    "    #print(\"Keine Linie gefunden.\")\n",
    "\n",
    "\n",
    "plt.figure()\n",
    "plt.imshow(mask)\n",
    "\n",
    "\n",
    "!!! Der nächste Schritt ist: den längsten Eintrag aus dem beschnittenen contours-Array herausfiltern und diesen direkt in die cv2.moments() geben\n",
    "\n"
   ]
  },
  {
   "cell_type": "code",
   "execution_count": null,
   "metadata": {
    "collapsed": true
   },
   "outputs": [],
   "source": []
  }
 ],
 "metadata": {
  "kernelspec": {
   "display_name": "Python 3",
   "language": "python",
   "name": "python3"
  },
  "language_info": {
   "codemirror_mode": {
    "name": "ipython",
    "version": 3
   },
   "file_extension": ".py",
   "mimetype": "text/x-python",
   "name": "python",
   "nbconvert_exporter": "python",
   "pygments_lexer": "ipython3",
   "version": "3.5.3"
  }
 },
 "nbformat": 4,
 "nbformat_minor": 2
}
