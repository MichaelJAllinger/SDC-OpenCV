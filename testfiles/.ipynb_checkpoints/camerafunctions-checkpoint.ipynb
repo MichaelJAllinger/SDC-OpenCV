{
 "cells": [
  {
   "cell_type": "code",
   "execution_count": 1,
   "metadata": {
    "collapsed": false
   },
   "outputs": [
    {
     "name": "stdout",
     "output_type": "stream",
     "text": [
      "Los geht's!\n"
     ]
    }
   ],
   "source": [
    "import numpy as np\n",
    "import cv2\n",
    "%matplotlib notebook\n",
    "import matplotlib.pyplot as plt\n",
    "\n",
    "#import mylib\t\t#sucht mylib.py und führt es aus\n",
    "#die Suche wird durchgeführt in:\n",
    "#import sys\n",
    "#sys.path\n",
    "\n",
    "\n",
    "\n",
    "video_capture = cv2.VideoCapture(0)           # -1: zufällige Kamera auswählen \n",
    "#video_capture.set(3, 320)                    # Breite des Bildes festlegen\n",
    "#video_capture.set(4, 240)                    # Höhe des Bildes festlegen\n",
    "\n",
    "def cam(video_capture):\n",
    "    \n",
    "    a = 0\n",
    "    b = 0\n",
    "    \n",
    "    ret, frame = video_capture.read()       # Video capturen\n",
    "\n",
    "    img_rgb = frame[:, :, ::-1]             # richtige Farbdarstellung\n",
    "\n",
    "    #crop_img = frame[240:480,0:640]\n",
    "\n",
    "    hsv_img = cv2.cvtColor(frame, cv2.COLOR_BGR2HSV)\n",
    "\n",
    "    lower_pink = np.array([10,0,0])                      \n",
    "    upper_pink = np.array([170,180,254])\n",
    "    \n",
    "    mask_wrong = cv2.inRange(hsv_img, lower_pink, upper_pink)\n",
    "\n",
    "    mask = cv2.bitwise_not(mask_wrong)\n",
    "    \n",
    "    zeile100 = mask[380, :]\n",
    "\n",
    "    x = np.arange(zeile100.shape[0]) #x=0,1,2 ... N-1 (N=Bildbreite)\n",
    "    point_of_gravity = (zeile100*x).sum() / zeile100.sum()\n",
    "\n",
    "\n",
    "    if point_of_gravity <= 240:                                       # Auto positionieren (Linkskurve, Rechtskurve, Geradeausfahrt)\n",
    "        a = \"Linkskurve gebraucht!\"\n",
    "        \n",
    "    elif point_of_gravity < 400 and point_of_gravity > 240:\n",
    "        a = \"Geradeausfahren!\"\n",
    "        \n",
    "    elif point_of_gravity >= 400:\n",
    "        a = \"Rechtskurve gebraucht!\"\n",
    "    \n",
    "    else:\n",
    "        a = \"Keine Linie gefunden!\"\n",
    "    \n",
    "    lower_green = np.array([40,50,50])                      \n",
    "    upper_green = np.array([65,255,255])\n",
    "    \n",
    "    mask_green = cv2.inRange(hsv_img, lower_green, upper_green)\n",
    "    \n",
    "    zeile100_green = mask_green[100, :]\n",
    "    row_sum = zeile100_green.sum()\n",
    "    \n",
    "    if row_sum == 0:\n",
    "        b = \"Kein Grün vorhanden.\"\n",
    "        \n",
    "    else:\n",
    "        b = \"Los geht's!\"   \n",
    "    \n",
    "    return [a, b, hsv_img]\n",
    "\n",
    "#while(True):\n",
    "    #direction, green = cam(video_capture)\n",
    "    #print(direction)\n",
    "    #print(green)\n",
    "\n",
    "direction, start, picture = cam(video_capture)\n",
    "\n",
    "print(start)\n",
    "\n",
    "\n",
    "plt.figure()\n",
    "#y = np.arange( mask.shape[0] ) #y=0,1,2 ... N-1 (N=Bildhöhe)\n",
    "#plt.imshow(img_redness, cmap='gray')\n",
    "plt.imshow(picture)\n",
    "#plt.plot(points_of_gravity, y, '.', color='red')\n"
   ]
  },
  {
   "cell_type": "code",
   "execution_count": null,
   "metadata": {
    "collapsed": true
   },
   "outputs": [],
   "source": []
  }
 ],
 "metadata": {
  "kernelspec": {
   "display_name": "Python 3",
   "language": "python",
   "name": "python3"
  },
  "language_info": {
   "codemirror_mode": {
    "name": "ipython",
    "version": 3
   },
   "file_extension": ".py",
   "mimetype": "text/x-python",
   "name": "python",
   "nbconvert_exporter": "python",
   "pygments_lexer": "ipython3",
   "version": "3.5.3"
  }
 },
 "nbformat": 4,
 "nbformat_minor": 2
}
