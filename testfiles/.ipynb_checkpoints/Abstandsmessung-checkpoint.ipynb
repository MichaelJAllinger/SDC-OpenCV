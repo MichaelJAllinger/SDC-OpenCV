{
 "cells": [
  {
   "cell_type": "code",
   "execution_count": null,
   "metadata": {
    "collapsed": false
   },
   "outputs": [],
   "source": [
    "import RPi.GPIO as GPIO\n",
    "import time\n",
    "\n",
    "GPIO_TRIGGER = 19\n",
    "GPIO_ECHO = 26\n",
    "\n",
    "GPIO.setmode(GPIO.BCM)\n",
    "GPIO.setup(GPIO_TRIGGER, GPIO.OUT)\n",
    "GPIO.setup(GPIO_ECHO, GPIO.IN)\n",
    "\n",
    "\n",
    "\n",
    "def distanz():\n",
    "    GPIO.output(GPIO_TRIGGER, True)    #10us-Impuls erzeugen\n",
    "    time.sleep(0.000001)\n",
    "    GPIO.output(GPIO_TRIGGER, False)\n",
    "    \n",
    "    while GPIO.input(GPIO_ECHO) == 0:  #Warten auf LOW\n",
    "        StartZeit = time.time()\n",
    "    \n",
    "    while GPIO.input(GPIO_ECHO) == 1:  #Warten auf HIGH\n",
    "        StopZeit = time.time()\n",
    "    \n",
    "    Techo = StopZeit-StartZeit\n",
    "    distanz = (Techo * 33e3) / 2       #Ergebnis in cm\n",
    "    return distanz\n",
    "\n",
    "try:\n",
    "    while True:\n",
    "        Entfernung = distanz()\n",
    "        print(\"Gemessene Entfernung = %.1f cm\" %Entfernung)\n",
    "        time.sleep(0.1)\n",
    "except KeyboardInterrupt:\n",
    "    print(\"Messung angehalten.\")\n",
    "    GPIO.cleanup()"
   ]
  },
  {
   "cell_type": "code",
   "execution_count": null,
   "metadata": {
    "collapsed": true
   },
   "outputs": [],
   "source": [
    " "
   ]
  }
 ],
 "metadata": {
  "kernelspec": {
   "display_name": "Python 3",
   "language": "python",
   "name": "python3"
  },
  "language_info": {
   "codemirror_mode": {
    "name": "ipython",
    "version": 3
   },
   "file_extension": ".py",
   "mimetype": "text/x-python",
   "name": "python",
   "nbconvert_exporter": "python",
   "pygments_lexer": "ipython3",
   "version": "3.5.3"
  }
 },
 "nbformat": 4,
 "nbformat_minor": 2
}
