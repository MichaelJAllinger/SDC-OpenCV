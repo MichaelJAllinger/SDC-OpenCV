{
 "cells": [
  {
   "cell_type": "code",
   "execution_count": 1,
   "metadata": {
    "collapsed": false
   },
   "outputs": [
    {
     "name": "stdout",
     "output_type": "stream",
     "text": [
      "0\n",
      "1\n",
      "2\n",
      "3\n",
      "4\n",
      "5\n",
      "6\n",
      "7\n",
      "8\n",
      "9\n",
      "10\n"
     ]
    }
   ],
   "source": [
    "import RPi.GPIO as GPIO\n",
    "import time\n",
    "\n",
    "GPIO.setmode(GPIO.BCM)\n",
    "\n",
    "PIN_DIRA = 24\n",
    "PIN_ENA = 18\n",
    "PIN_DIRB = 23\n",
    "PIN_ENB = 19\n",
    "\n",
    "GPIO.setup(PIN_DIRA, GPIO.OUT)\n",
    "GPIO.setup(PIN_ENA, GPIO.OUT)\n",
    "GPIO.setup(PIN_DIRB, GPIO.OUT)\n",
    "GPIO.setup(PIN_ENB, GPIO.OUT)\n",
    "MotorA = GPIO.PWM(PIN_ENA, 50.0)\n",
    "MotorB = GPIO.PWM(PIN_ENB, 50.0)\n",
    "\n",
    "GPIO.output(PIN_DIRA, 1)\n",
    "GPIO.output(PIN_DIRB, 1)\n",
    "\n",
    "for i in range(0, 11):\n",
    "    d = 1\n",
    "    GPIO.output(PIN_DIRA, d)\n",
    "    GPIO.output(PIN_DIRB, d)\n",
    "\n",
    "    MotorA.start(i*10)\n",
    "    MotorB.start(i*10)\n",
    "    print(i)\n",
    "    time.sleep(0.3)\n",
    "\n",
    "    \n",
    "MotorA.stop()\n",
    "MotorB.stop()\n",
    "\n",
    "GPIO.cleanup()\n"
   ]
  },
  {
   "cell_type": "code",
   "execution_count": null,
   "metadata": {
    "collapsed": true
   },
   "outputs": [],
   "source": []
  }
 ],
 "metadata": {
  "kernelspec": {
   "display_name": "Python 3",
   "language": "python",
   "name": "python3"
  },
  "language_info": {
   "codemirror_mode": {
    "name": "ipython",
    "version": 3
   },
   "file_extension": ".py",
   "mimetype": "text/x-python",
   "name": "python",
   "nbconvert_exporter": "python",
   "pygments_lexer": "ipython3",
   "version": "3.5.3"
  }
 },
 "nbformat": 4,
 "nbformat_minor": 2
}
