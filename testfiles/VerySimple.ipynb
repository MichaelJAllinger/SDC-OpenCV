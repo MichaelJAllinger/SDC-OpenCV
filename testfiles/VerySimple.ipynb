{
 "cells": [
  {
   "cell_type": "code",
   "execution_count": 5,
   "metadata": {
    "collapsed": false
   },
   "outputs": [],
   "source": [
    "import RPi.GPIO as GPIO\n",
    "import time\n",
    "\n",
    "GPIO.setmode(GPIO.BCM)\n",
    "\n",
    "PIN_DIRA = 24\n",
    "PIN_ENA = 18\n",
    "PIN_DIRB = 23\n",
    "PIN_ENB = 19\n",
    "\n",
    "GPIO.setup(PIN_DIRA, GPIO.OUT)\n",
    "GPIO.setup(PIN_ENA, GPIO.OUT)\n",
    "\n",
    "MotorA = GPIO.PWM(PIN_ENA, 40.0)\n",
    "GPIO.output(PIN_DIRA, 1)\n",
    "\n",
    "MotorA.start(10)\n",
    "time.sleep(1)\n",
    "MotorA.start(0)\n"
   ]
  },
  {
   "cell_type": "code",
   "execution_count": null,
   "metadata": {
    "collapsed": true
   },
   "outputs": [],
   "source": []
  },
  {
   "cell_type": "code",
   "execution_count": null,
   "metadata": {
    "collapsed": true
   },
   "outputs": [],
   "source": []
  }
 ],
 "metadata": {
  "kernelspec": {
   "display_name": "Python 3",
   "language": "python",
   "name": "python3"
  },
  "language_info": {
   "codemirror_mode": {
    "name": "ipython",
    "version": 3
   },
   "file_extension": ".py",
   "mimetype": "text/x-python",
   "name": "python",
   "nbconvert_exporter": "python",
   "pygments_lexer": "ipython3",
   "version": "3.5.3"
  }
 },
 "nbformat": 4,
 "nbformat_minor": 2
}
